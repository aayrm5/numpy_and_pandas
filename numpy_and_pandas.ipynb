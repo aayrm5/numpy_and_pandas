{
 "cells": [
  {
   "cell_type": "markdown",
   "metadata": {
    "deletable": true,
    "editable": true
   },
   "source": [
    "# NumPy and Pandas - Crucial Tools for Data Scientists\n",
    "\n",
    "When it comes to scientific computing and data science, two key python packages that are often used are NumPy and pandas. NumPy is a powerful python library that expands Python's functionality by allowing users to create multi-dimenional array objects (ndarray). In addition to the creation of ndarray objects, NumPy provides a large set of mathematical functions that can operate quickly on the entries of the ndarray objects without the need of for loops. Below is an example of the usage of NumPy. The code creates a random array and calculates the cosine for each entry in the array."
   ]
  },
  {
   "cell_type": "code",
   "execution_count": 3,
   "metadata": {
    "collapsed": false,
    "deletable": true,
    "editable": true
   },
   "outputs": [
    {
     "name": "stdout",
     "output_type": "stream",
     "text": [
      "[[ 0.99782167  0.71935611]\n",
      " [ 0.99182799  0.90750689]\n",
      " [ 0.76811334  0.88994394]\n",
      " [ 0.96423103  0.99989573]]\n"
     ]
    }
   ],
   "source": [
    "import numpy as np\n",
    "\n",
    "X = np.random.random((4, 2))  # create random 4x2 array\n",
    "y = np.cos(X)                 # take the cosine on each entry of X\n",
    "\n",
    "print y"
   ]
  },
  {
   "cell_type": "markdown",
   "metadata": {
    "deletable": true,
    "editable": true
   },
   "source": [
    "We can easily access entries of an array, calling upon individual elements, and select of rows and columns."
   ]
  },
  {
   "cell_type": "code",
   "execution_count": 10,
   "metadata": {
    "collapsed": false,
    "deletable": true,
    "editable": true
   },
   "outputs": [
    {
     "name": "stdout",
     "output_type": "stream",
     "text": [
      "[ 0.99782167  0.71935611]\n",
      "[ 0.71935611  0.90750689  0.88994394  0.99989573]\n",
      "0.889943943301\n",
      "[[ 0.99182799  0.90750689]]\n"
     ]
    }
   ],
   "source": [
    "print y[0, :]   # select 1st row\n",
    "print y[:, 1]   # select 1st column\n",
    "print y[2, 1]   # select element y_12\n",
    "print y[1:2, :] # select rows 2nd and 3rd row"
   ]
  },
  {
   "cell_type": "markdown",
   "metadata": {
    "deletable": true,
    "editable": true
   },
   "source": [
    "The pandas (PANel + DAta) Python library allows for easy and fast data analysis and manipulation tools by providing numerical tables and time series data structures called DataFrame and Series, respectively. pandas was created to do the following:\n",
    "\n",
    "- provide data structures that can handle both time and non-time series data\n",
    "- allow mathematical operations on the data structures, ignoring the metadata of the data structures\n",
    "- relational operations like those found in programming languages like SQL (join, group by, etc.)\n",
    "- able to handle missing data\n",
    "\n",
    "Below is an example of the usage of pandas and some of its capabilitites."
   ]
  },
  {
   "cell_type": "code",
   "execution_count": 40,
   "metadata": {
    "collapsed": false,
    "deletable": true,
    "editable": true
   },
   "outputs": [
    {
     "data": {
      "text/html": [
       "<div>\n",
       "<style>\n",
       "    .dataframe thead tr:only-child th {\n",
       "        text-align: right;\n",
       "    }\n",
       "\n",
       "    .dataframe thead th {\n",
       "        text-align: left;\n",
       "    }\n",
       "\n",
       "    .dataframe tbody tr th {\n",
       "        vertical-align: top;\n",
       "    }\n",
       "</style>\n",
       "<table border=\"1\" class=\"dataframe\">\n",
       "  <thead>\n",
       "    <tr style=\"text-align: right;\">\n",
       "      <th></th>\n",
       "      <th>Electoral Votes</th>\n",
       "      <th>Population</th>\n",
       "      <th>State</th>\n",
       "      <th>West of Mississippi</th>\n",
       "    </tr>\n",
       "  </thead>\n",
       "  <tbody>\n",
       "    <tr>\n",
       "      <th>0</th>\n",
       "      <td>38</td>\n",
       "      <td>27860000.0</td>\n",
       "      <td>Texas</td>\n",
       "      <td>True</td>\n",
       "    </tr>\n",
       "    <tr>\n",
       "      <th>1</th>\n",
       "      <td>3</td>\n",
       "      <td>1060000.0</td>\n",
       "      <td>Rhode Island</td>\n",
       "      <td>False</td>\n",
       "    </tr>\n",
       "    <tr>\n",
       "      <th>2</th>\n",
       "      <td>5</td>\n",
       "      <td>1910000.0</td>\n",
       "      <td>Nebraska</td>\n",
       "      <td>True</td>\n",
       "    </tr>\n",
       "  </tbody>\n",
       "</table>\n",
       "</div>"
      ],
      "text/plain": [
       "   Electoral Votes  Population         State  West of Mississippi\n",
       "0               38  27860000.0         Texas                 True\n",
       "1                3   1060000.0  Rhode Island                False\n",
       "2                5   1910000.0      Nebraska                 True"
      ]
     },
     "execution_count": 40,
     "metadata": {},
     "output_type": "execute_result"
    }
   ],
   "source": [
    "import pandas as pd\n",
    "\n",
    "states = ['Texas', 'Rhode Island', 'Nebraska'] # strings\n",
    "population = [27.86E6, 1.06E6, 1.91E6]         # float\n",
    "electoral_votes = [38, 3, 5]                   # integer\n",
    "is_west_of_MS = [True, False, True]            # boolean\n",
    "\n",
    "# create and display DataFrame\n",
    "dict_data = {'State': states, 'Population': population, 'West of Mississippi': is_west_of_MS, 'Electoral Votes': electoral_votes}\n",
    "df1 = pd.DataFrame(dict_data)\n",
    "df1"
   ]
  },
  {
   "cell_type": "markdown",
   "metadata": {
    "deletable": true,
    "editable": true
   },
   "source": [
    "In the above code, we created a pandas DataFrame object, a tabular data structure that resembles a spreadsheet, similar to Excel. For those familiar with SQL, you can view a DataFrame as a SQL table.\n",
    "\n",
    "The DataFrame we created consists of three columns, each with entries of different data types (integer, float, and string). It is built on top of NumPy, relying on ndarray and its fast and efficient arrays-based mathematical functions. For example, if we wanted to calculated the mean population across the states, we can run"
   ]
  },
  {
   "cell_type": "code",
   "execution_count": 20,
   "metadata": {
    "collapsed": false,
    "deletable": true,
    "editable": true
   },
   "outputs": [
    {
     "name": "stdout",
     "output_type": "stream",
     "text": [
      "10276666.6667\n"
     ]
    }
   ],
   "source": [
    "print df1['Population'].mean()"
   ]
  },
  {
   "cell_type": "markdown",
   "metadata": {
    "deletable": true,
    "editable": true
   },
   "source": [
    "pandas relies on NumPy data types for the entries in the DataFrame. Printing the types of individual entries (using iloc to access entries via its index) shows"
   ]
  },
  {
   "cell_type": "code",
   "execution_count": 39,
   "metadata": {
    "collapsed": false,
    "deletable": true,
    "editable": true
   },
   "outputs": [
    {
     "name": "stdout",
     "output_type": "stream",
     "text": [
      "<type 'numpy.int64'>\n",
      "<type 'numpy.float64'>\n",
      "<type 'numpy.bool_'>\n"
     ]
    }
   ],
   "source": [
    "print type(df1['Electoral Votes'].iloc[0])\n",
    "print type(df1['Population'].iloc[0])\n",
    "print type(df1['West of Mississipi'].iloc[0])"
   ]
  },
  {
   "cell_type": "markdown",
   "metadata": {
    "deletable": true,
    "editable": true
   },
   "source": [
    "Another example of the pandas and NumPy compatibility is if we have a DataFrame that is composed of purely numerica data we can apply NumPy functions. For example,"
   ]
  },
  {
   "cell_type": "code",
   "execution_count": 33,
   "metadata": {
    "collapsed": false,
    "deletable": true,
    "editable": true
   },
   "outputs": [
    {
     "data": {
      "text/html": [
       "<div>\n",
       "<style>\n",
       "    .dataframe thead tr:only-child th {\n",
       "        text-align: right;\n",
       "    }\n",
       "\n",
       "    .dataframe thead th {\n",
       "        text-align: left;\n",
       "    }\n",
       "\n",
       "    .dataframe tbody tr th {\n",
       "        vertical-align: top;\n",
       "    }\n",
       "</style>\n",
       "<table border=\"1\" class=\"dataframe\">\n",
       "  <thead>\n",
       "    <tr style=\"text-align: right;\">\n",
       "      <th></th>\n",
       "      <th>more times</th>\n",
       "      <th>times</th>\n",
       "    </tr>\n",
       "  </thead>\n",
       "  <tbody>\n",
       "    <tr>\n",
       "      <th>0</th>\n",
       "      <td>0.283662</td>\n",
       "      <td>0.540302</td>\n",
       "    </tr>\n",
       "    <tr>\n",
       "      <th>1</th>\n",
       "      <td>0.960170</td>\n",
       "      <td>-0.416147</td>\n",
       "    </tr>\n",
       "    <tr>\n",
       "      <th>2</th>\n",
       "      <td>0.753902</td>\n",
       "      <td>-0.989992</td>\n",
       "    </tr>\n",
       "    <tr>\n",
       "      <th>3</th>\n",
       "      <td>-0.145500</td>\n",
       "      <td>-0.653644</td>\n",
       "    </tr>\n",
       "  </tbody>\n",
       "</table>\n",
       "</div>"
      ],
      "text/plain": [
       "   more times     times\n",
       "0    0.283662  0.540302\n",
       "1    0.960170 -0.416147\n",
       "2    0.753902 -0.989992\n",
       "3   -0.145500 -0.653644"
      ]
     },
     "execution_count": 33,
     "metadata": {},
     "output_type": "execute_result"
    }
   ],
   "source": [
    "df2 = pd.DataFrame({\"times\": [1.0, 2.0, 3.0, 4.0], \"more times\": [5.0, 6.0, 7.0, 8.0]})\n",
    "df2 = np.cos(df2)\n",
    "df2.head()"
   ]
  },
  {
   "cell_type": "markdown",
   "metadata": {
    "deletable": true,
    "editable": true
   },
   "source": [
    "Acessing columns is inuitive, return the pandas Series object."
   ]
  },
  {
   "cell_type": "code",
   "execution_count": 29,
   "metadata": {
    "collapsed": false,
    "deletable": true,
    "editable": true
   },
   "outputs": [
    {
     "name": "stdout",
     "output_type": "stream",
     "text": [
      "0    27860000.0\n",
      "1     1060000.0\n",
      "2     1910000.0\n",
      "Name: Population, dtype: float64\n",
      "<class 'pandas.core.series.Series'>\n"
     ]
    }
   ],
   "source": [
    "print df['Population']\n",
    "print type(df['Population'])"
   ]
  },
  {
   "cell_type": "markdown",
   "metadata": {
    "deletable": true,
    "editable": true
   },
   "source": [
    "A DataFrame object is composed of multiple Series, as illustrated above. The DataFrame class resembles a collection NumPy arraies but with labeled axes and mixed data types across the columns. In fact, Series is subclass of NumPy's ndarray."
   ]
  },
  {
   "cell_type": "markdown",
   "metadata": {
    "deletable": true,
    "editable": true
   },
   "source": [
    "## How Memory is configured in NumPy\n",
    "\n",
    "The power of NumPy comes from ndarray object and how it's laid out in memory. The ndarray object consists of\n",
    "\n",
    "- the data type of the entires of the array\n",
    "- a pointer to a contiguous block of memory where the data/entries of the array reside\n",
    "- a tuple of the array's shape\n",
    "- a tuple of the array's stride\n",
    "\n",
    "The shape refers to the dimension of the array while the stride refers the number of bytes to step in a particular dimension when traversing an array in memory. With both the stride and the shape, NumPy has sufficient information to access the array's entries in memory.\n",
    "\n",
    "By default, NumPy arranges the data in row-major order, like in C. Row-major order lays out the entries of the array by groupings of rows. An alternative odering is the column-major ordering, as used in Fortran and MATLAB, which uses columns as the grouping. NumPy is capable of implementing both ordering schemes by passing the keyword 'order' when creating an array. See the figure below for the differeneces in the schemes."
   ]
  },
  {
   "cell_type": "markdown",
   "metadata": {
    "collapsed": false,
    "deletable": true,
    "editable": true
   },
   "source": [
    "<img src='figures/row_column_ordering.png'>"
   ]
  },
  {
   "cell_type": "markdown",
   "metadata": {
    "deletable": true,
    "editable": true
   },
   "source": [
    "The continguous memory layout allows NumPy to use vector processors in modern CPU and array computations are efficient because NumPy can loop through the entries in data properly by knowing the location in memory and the data type of the entries. Further, NumPy can link to established and highly optimized linear algebra libraries like BLAS and LAPACK. As you can see, using the NumPy ndarray offers more efficient and fast computations over using the native Python list. No wonder pandas and other python libraries are built on top of NumPy.\n",
    "\n",
    "However, the infrastructure of the ndarray object must require all entries be of the same data type, something that a python list is not limited to."
   ]
  },
  {
   "cell_type": "markdown",
   "metadata": {
    "collapsed": true,
    "deletable": true,
    "editable": true
   },
   "source": [
    "## Non-homogeneous Data Types in pandas"
   ]
  },
  {
   "cell_type": "code",
   "execution_count": null,
   "metadata": {
    "collapsed": true,
    "deletable": true,
    "editable": true
   },
   "outputs": [],
   "source": []
  }
 ],
 "metadata": {
  "kernelspec": {
   "display_name": "Python 2",
   "language": "python",
   "name": "python2"
  },
  "language_info": {
   "codemirror_mode": {
    "name": "ipython",
    "version": 2
   },
   "file_extension": ".py",
   "mimetype": "text/x-python",
   "name": "python",
   "nbconvert_exporter": "python",
   "pygments_lexer": "ipython2",
   "version": "2.7.13"
  }
 },
 "nbformat": 4,
 "nbformat_minor": 2
}
