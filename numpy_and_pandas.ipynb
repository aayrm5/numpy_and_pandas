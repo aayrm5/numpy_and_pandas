{
 "cells": [
  {
   "cell_type": "markdown",
   "metadata": {
    "deletable": true,
    "editable": true
   },
   "source": [
    "# NumPy and pandas - Crucial Tools for Data Scientists\n",
    "\n",
    "When it comes to scientific computing and data science, two key python packages are NumPy and pandas. NumPy is a powerful python library that expands Python's functionality by allowing users to create multi-dimenional array objects (`ndarray`). In addition to the creation of `ndarray` objects, NumPy provides a large set of mathematical functions that can operate quickly on the entries of the `ndarray` without the need of for loops. \n",
    "Below is an example of the usage of NumPy. The code creates a random array and calculates the cosine for each entry in the array."
   ]
  },
  {
   "cell_type": "code",
   "execution_count": 6,
   "metadata": {
    "collapsed": false,
    "deletable": true,
    "editable": true
   },
   "outputs": [
    {
     "name": "stdout",
     "output_type": "stream",
     "text": [
      "[[ 0.90587922  0.75258426]\n",
      " [ 0.98638747  0.99840148]\n",
      " [ 0.98784724  0.56218432]\n",
      " [ 0.99922408  0.74143118]]\n"
     ]
    }
   ],
   "source": [
    "import numpy as np\n",
    "\n",
    "X = np.random.random((4, 2))  # create random 4x2 array\n",
    "y = np.cos(X)                 # take the cosine on each entry of X\n",
    "\n",
    "print y"
   ]
  },
  {
   "cell_type": "markdown",
   "metadata": {
    "deletable": true,
    "editable": true
   },
   "source": [
    "We can easily access entries of an array, call individual elements, and select certain rows and columns."
   ]
  },
  {
   "cell_type": "code",
   "execution_count": 7,
   "metadata": {
    "collapsed": false,
    "deletable": true,
    "editable": true
   },
   "outputs": [
    {
     "name": "stdout",
     "output_type": "stream",
     "text": [
      "[ 0.90587922  0.75258426]\n",
      "[ 0.75258426  0.99840148  0.56218432  0.74143118]\n",
      "0.562184315047\n",
      "[[ 0.98638747  0.99840148]]\n"
     ]
    }
   ],
   "source": [
    "print y[0, :]   # select 1st row\n",
    "print y[:, 1]   # select 1st column\n",
    "print y[2, 1]   # select element y_12\n",
    "print y[1:2, :] # select rows 2nd and 3rd row"
   ]
  },
  {
   "cell_type": "markdown",
   "metadata": {
    "deletable": true,
    "editable": true
   },
   "source": [
    "The pandas (PANel + DAta) Python library allows for easy and fast data analysis and manipulation tools by providing numerical tables and time series data structures called `DataFrame` and `Series`, respectively. Pandas was created to do the following:\n",
    "\n",
    "- provide data structures that can handle both time and non-time series data\n",
    "- allow mathematical operations on the data structures, ignoring the metadata of the data structures\n",
    "- use relational operations like those found in programming languages like SQL (join, group by, etc.)\n",
    "- handle missing data\n",
    "\n",
    "Below is an example of the usage of pandas and some of its capabilitites."
   ]
  },
  {
   "cell_type": "code",
   "execution_count": 8,
   "metadata": {
    "collapsed": false,
    "deletable": true,
    "editable": true
   },
   "outputs": [
    {
     "data": {
      "text/html": [
       "<div>\n",
       "<style>\n",
       "    .dataframe thead tr:only-child th {\n",
       "        text-align: right;\n",
       "    }\n",
       "\n",
       "    .dataframe thead th {\n",
       "        text-align: left;\n",
       "    }\n",
       "\n",
       "    .dataframe tbody tr th {\n",
       "        vertical-align: top;\n",
       "    }\n",
       "</style>\n",
       "<table border=\"1\" class=\"dataframe\">\n",
       "  <thead>\n",
       "    <tr style=\"text-align: right;\">\n",
       "      <th></th>\n",
       "      <th>Electoral Votes</th>\n",
       "      <th>Population</th>\n",
       "      <th>State</th>\n",
       "      <th>West of Mississippi</th>\n",
       "    </tr>\n",
       "  </thead>\n",
       "  <tbody>\n",
       "    <tr>\n",
       "      <th>0</th>\n",
       "      <td>38</td>\n",
       "      <td>27860000.0</td>\n",
       "      <td>Texas</td>\n",
       "      <td>True</td>\n",
       "    </tr>\n",
       "    <tr>\n",
       "      <th>1</th>\n",
       "      <td>3</td>\n",
       "      <td>1060000.0</td>\n",
       "      <td>Rhode Island</td>\n",
       "      <td>False</td>\n",
       "    </tr>\n",
       "    <tr>\n",
       "      <th>2</th>\n",
       "      <td>5</td>\n",
       "      <td>1910000.0</td>\n",
       "      <td>Nebraska</td>\n",
       "      <td>True</td>\n",
       "    </tr>\n",
       "  </tbody>\n",
       "</table>\n",
       "</div>"
      ],
      "text/plain": [
       "   Electoral Votes  Population         State  West of Mississippi\n",
       "0               38  27860000.0         Texas                 True\n",
       "1                3   1060000.0  Rhode Island                False\n",
       "2                5   1910000.0      Nebraska                 True"
      ]
     },
     "execution_count": 8,
     "metadata": {},
     "output_type": "execute_result"
    }
   ],
   "source": [
    "import pandas as pd\n",
    "\n",
    "states = ['Texas', 'Rhode Island', 'Nebraska'] # strings\n",
    "population = [27.86E6, 1.06E6, 1.91E6]         # float\n",
    "electoral_votes = [38, 3, 5]                   # integer\n",
    "is_west_of_MS = [True, False, True]            # boolean\n",
    "\n",
    "# create and display DataFrame\n",
    "dict_data = {'State': states, 'Population': population, 'West of Mississippi': is_west_of_MS, 'Electoral Votes': electoral_votes}\n",
    "df1 = pd.DataFrame(dict_data)\n",
    "df1"
   ]
  },
  {
   "cell_type": "markdown",
   "metadata": {
    "deletable": true,
    "editable": true
   },
   "source": [
    "In the above code, we created a pandas `DataFrame` object, a tabular data structure that resembles a spreadsheet like those used in Excel. For those familiar with SQL, you can view a `DataFrame` as an SQL table.\n",
    "\n",
    "The `DataFrame` we created consists of three columns, each with entries of different data types (integer, float, and string). It is built on top of NumPy, relying on ndarray and its fast and efficient arrays-based mathematical functions. For example, if we wanted to calculate the mean population across the states, we can run"
   ]
  },
  {
   "cell_type": "code",
   "execution_count": 9,
   "metadata": {
    "collapsed": false,
    "deletable": true,
    "editable": true
   },
   "outputs": [
    {
     "name": "stdout",
     "output_type": "stream",
     "text": [
      "10276666.6667\n"
     ]
    }
   ],
   "source": [
    "print df1['Population'].mean()"
   ]
  },
  {
   "cell_type": "markdown",
   "metadata": {
    "deletable": true,
    "editable": true
   },
   "source": [
    "Pandas relies on NumPy data types for the entries in the `DataFrame`. Printing the types of individual entries (using `iloc` to access entries via its index) shows"
   ]
  },
  {
   "cell_type": "code",
   "execution_count": 10,
   "metadata": {
    "collapsed": false,
    "deletable": true,
    "editable": true
   },
   "outputs": [
    {
     "name": "stdout",
     "output_type": "stream",
     "text": [
      "<type 'numpy.int64'>\n",
      "<type 'numpy.float64'>\n",
      "<type 'numpy.bool_'>\n"
     ]
    }
   ],
   "source": [
    "print type(df1['Electoral Votes'].iloc[0])\n",
    "print type(df1['Population'].iloc[0])\n",
    "print type(df1['West of Mississippi'].iloc[0])"
   ]
  },
  {
   "cell_type": "markdown",
   "metadata": {
    "deletable": true,
    "editable": true
   },
   "source": [
    "Another example of the pandas and NumPy compatibility is if we have a `DataFrame` that is composed of purely numerical data we can apply NumPy functions. For example,"
   ]
  },
  {
   "cell_type": "code",
   "execution_count": 11,
   "metadata": {
    "collapsed": false,
    "deletable": true,
    "editable": true
   },
   "outputs": [
    {
     "data": {
      "text/html": [
       "<div>\n",
       "<style>\n",
       "    .dataframe thead tr:only-child th {\n",
       "        text-align: right;\n",
       "    }\n",
       "\n",
       "    .dataframe thead th {\n",
       "        text-align: left;\n",
       "    }\n",
       "\n",
       "    .dataframe tbody tr th {\n",
       "        vertical-align: top;\n",
       "    }\n",
       "</style>\n",
       "<table border=\"1\" class=\"dataframe\">\n",
       "  <thead>\n",
       "    <tr style=\"text-align: right;\">\n",
       "      <th></th>\n",
       "      <th>more times</th>\n",
       "      <th>times</th>\n",
       "    </tr>\n",
       "  </thead>\n",
       "  <tbody>\n",
       "    <tr>\n",
       "      <th>0</th>\n",
       "      <td>0.283662</td>\n",
       "      <td>0.540302</td>\n",
       "    </tr>\n",
       "    <tr>\n",
       "      <th>1</th>\n",
       "      <td>0.960170</td>\n",
       "      <td>-0.416147</td>\n",
       "    </tr>\n",
       "    <tr>\n",
       "      <th>2</th>\n",
       "      <td>0.753902</td>\n",
       "      <td>-0.989992</td>\n",
       "    </tr>\n",
       "    <tr>\n",
       "      <th>3</th>\n",
       "      <td>-0.145500</td>\n",
       "      <td>-0.653644</td>\n",
       "    </tr>\n",
       "  </tbody>\n",
       "</table>\n",
       "</div>"
      ],
      "text/plain": [
       "   more times     times\n",
       "0    0.283662  0.540302\n",
       "1    0.960170 -0.416147\n",
       "2    0.753902 -0.989992\n",
       "3   -0.145500 -0.653644"
      ]
     },
     "execution_count": 11,
     "metadata": {},
     "output_type": "execute_result"
    }
   ],
   "source": [
    "df2 = pd.DataFrame({\"times\": [1.0, 2.0, 3.0, 4.0], \"more times\": [5.0, 6.0, 7.0, 8.0]})\n",
    "df2 = np.cos(df2)\n",
    "df2.head()"
   ]
  },
  {
   "cell_type": "markdown",
   "metadata": {
    "deletable": true,
    "editable": true
   },
   "source": [
    "Accessing columns is inuitive, and returns the pandas `Series` class."
   ]
  },
  {
   "cell_type": "code",
   "execution_count": 13,
   "metadata": {
    "collapsed": false,
    "deletable": true,
    "editable": true
   },
   "outputs": [
    {
     "name": "stdout",
     "output_type": "stream",
     "text": [
      "0    27860000.0\n",
      "1     1060000.0\n",
      "2     1910000.0\n",
      "Name: Population, dtype: float64\n",
      "<class 'pandas.core.series.Series'>\n"
     ]
    }
   ],
   "source": [
    "print df1['Population']\n",
    "print type(df1['Population'])"
   ]
  },
  {
   "cell_type": "markdown",
   "metadata": {
    "deletable": true,
    "editable": true
   },
   "source": [
    "A `DataFrame` is composed of multiple `Series`, as illustrated above. The `DataFrame` class resembles a collection of NumPy arrays but with labeled axes and mixed data types across the columns. In fact, `Series` is subclass of NumPy's `ndarray`."
   ]
  },
  {
   "cell_type": "markdown",
   "metadata": {
    "deletable": true,
    "editable": true
   },
   "source": [
    "## How memory is configured in NumPy\n",
    "\n",
    "The power of NumPy comes from `ndarray` object and how it's laid out in memory. The `ndarray` object consists of\n",
    "\n",
    "- the data type of the entires of the array\n",
    "- a pointer to a contiguous block of memory where the data/entries of the array reside\n",
    "- a tuple of the array's shape\n",
    "- a tuple of the array's stride\n",
    "\n",
    "The shape refers to the dimension of the array while the stride refers the number of bytes to step in a particular dimension when traversing an array in memory. With both the stride and the shape, NumPy has sufficient information to access the array's entries in memory.\n",
    "\n",
    "By default, NumPy arranges the data in row-major order, like in C. Row-major order lays out the entries of the array by groupings of rows. An alternative odering is the column-major ordering, as used in Fortran and MATLAB, which uses columns as the grouping. NumPy is capable of implementing both ordering schemes by passing the keyword 'order' when creating an array. See the figure below for the differeneces in the schemes."
   ]
  },
  {
   "cell_type": "markdown",
   "metadata": {
    "collapsed": false,
    "deletable": true,
    "editable": true
   },
   "source": [
    "<img src='figures/row_column_ordering.png'>"
   ]
  },
  {
   "cell_type": "markdown",
   "metadata": {
    "deletable": true,
    "editable": true
   },
   "source": [
    "The continguous memory layout allows NumPy to use vector processors in modern CPU and array computations are efficient because NumPy can loop through the entries in data properly by knowing the location in memory and the data type of the entries. Further, NumPy can link to established and highly optimized linear algebra libraries like BLAS and LAPACK. As you can see, using the NumPy `ndarray` offers more efficient and fast computations over using the native Python list. No wonder pandas and other python libraries are built on top of NumPy.\n",
    "\n",
    "However, the infrastructure of the `ndarray` object must require all entries be of the same data type, something that a python list is not limited to."
   ]
  },
  {
   "cell_type": "markdown",
   "metadata": {
    "collapsed": true,
    "deletable": true,
    "editable": true
   },
   "source": [
    "## Hetereogeneous data types in pandas\n",
    "\n",
    "As mentioned earlier, the pandas `DataFrame` class can store hetereogeneous data, each column contains a `Series` of a different data type. The `DataFrame` is stored as several \"blocks\", where each block contains the columns of the `DataFrame` that have the same data type. For example, a `DataFrame` with five columns comprised of two columns of floats, two columns as integers, and one column as a Boolean will be stored using three blocks. \n",
    "\n",
    "With the data of the `DataFrame` stored using blocks grouped by data, operations _within_ blocks effcient, as described previously on why NumPy operations are fast. However, operations involving several blocks will not be efficient. Information on these blocks of a `DataFrame` object can be accessed using `._data`."
   ]
  },
  {
   "cell_type": "code",
   "execution_count": 14,
   "metadata": {
    "collapsed": false,
    "deletable": true,
    "editable": true
   },
   "outputs": [
    {
     "data": {
      "text/plain": [
       "BlockManager\n",
       "Items: Index([u'Electoral Votes', u'Population', u'State', u'West of Mississippi'], dtype='object')\n",
       "Axis 1: RangeIndex(start=0, stop=3, step=1)\n",
       "FloatBlock: slice(1, 2, 1), 1 x 3, dtype: float64\n",
       "IntBlock: slice(0, 1, 1), 1 x 3, dtype: int64\n",
       "BoolBlock: slice(3, 4, 1), 1 x 3, dtype: bool\n",
       "ObjectBlock: slice(2, 3, 1), 1 x 3, dtype: object"
      ]
     },
     "execution_count": 14,
     "metadata": {},
     "output_type": "execute_result"
    }
   ],
   "source": [
    "df1._data"
   ]
  },
  {
   "cell_type": "markdown",
   "metadata": {
    "deletable": true,
    "editable": true
   },
   "source": [
    "The `DataFrame` class can allow columns with mixed data types. For these cases, the data type for the column is referred to as `object`. When the data type is `object`, the data is no longer stored in the NumPy `ndarray` format, but rather a continguous block of pointers where each pointer referrences a Python object. Thus, operations on a `DataFrame` object made up `Series` of data type `object` will not be efficient.\n",
    "\n",
    "Strings are stored in pandas as Python `object` data type. This is because strings have variable memory size. In contrast, integers and floats have a fixed byte size. However, if a `DataFrame` has columns with categorial data, encoding the entries using integers will be more memory and computational efficient. For example, a column may contain entries of \"small\", \"medium\", and \"large\" can be coverted to 0, 1, and 2 and the data type of that column is now an integer."
   ]
  },
  {
   "cell_type": "markdown",
   "metadata": {},
   "source": [
    "## The importance of understanding Numpy and pandas\n",
    "\n",
    "Through this article, we have seen \n",
    "\n",
    "- examples of usage of NumPy and pandas\n",
    "- how memory is configured in NumPy\n",
    "- how pandas relies on NumPy\n",
    "- how pandas deals with hetereogeneous data types\n",
    "\n",
    "While knowing how NumPy and pandas work is not necessary to use these tools, knowing the working of these libraries and how they are related enables data scientists to effectively yield these tools. "
   ]
  },
  {
   "cell_type": "code",
   "execution_count": null,
   "metadata": {
    "collapsed": true
   },
   "outputs": [],
   "source": []
  }
 ],
 "metadata": {
  "kernelspec": {
   "display_name": "Python 2",
   "language": "python",
   "name": "python2"
  },
  "language_info": {
   "codemirror_mode": {
    "name": "ipython",
    "version": 2
   },
   "file_extension": ".py",
   "mimetype": "text/x-python",
   "name": "python",
   "nbconvert_exporter": "python",
   "pygments_lexer": "ipython2",
   "version": "2.7.13"
  }
 },
 "nbformat": 4,
 "nbformat_minor": 2
}
